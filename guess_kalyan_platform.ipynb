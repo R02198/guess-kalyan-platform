{
  "nbformat": 4,
  "nbformat_minor": 0,
  "metadata": {
    "colab": {
      "provenance": []
    },
    "kernelspec": {
      "name": "python3",
      "display_name": "Python 3"
    },
    "language_info": {
      "name": "python"
    }
  },
  "cells": [
    {
      "cell_type": "code",
      "source": [
        "print(\"let play kalyan platform guess\")\n",
        "import random as r\n",
        "\n",
        "def platform(a):\n",
        "  dic={}\n",
        "  listt=[]\n",
        "  amt=[]\n",
        "  plt=[2,3,4,5,6,7]\n",
        "  if a==\"y\":\n",
        "    b=int(input(\"how many player \"))\n",
        "    for i in range (b):\n",
        "      name=input(\"enter a name of player \")\n",
        "      listt.append(name)\n",
        "    for d in listt:\n",
        "      amount=int(input(f\"enter a amount {d} \"))\n",
        "      amt.append(amount)\n",
        "      tot = sum(amt)\n",
        "    for j in listt:\n",
        "      pltchoice=int(input(f\"enter a platform for {j} \"))\n",
        "      dic.setdefault(pltchoice,j)\n",
        "\n",
        "    st=r.choice(plt)\n",
        "    l=list(dic.keys())\n",
        "    for c in range (b):\n",
        "      if st == l[c]:\n",
        "        w=dic.get(l[c])\n",
        "        return f\"{w} have won {tot}\"        \n",
        "  else:\n",
        "    return \"ghare jaaaa\" \n",
        "       \n",
        "  \n",
        "t=input(\"if you want to play then press y or n \")\n",
        "print(platform(t))"
      ],
      "metadata": {
        "colab": {
          "base_uri": "https://localhost:8080/",
          "height": 0
        },
        "id": "JDzIbvZqBycg",
        "outputId": "cc8f31b3-dc6f-4b77-b07b-18cd34aeb5e5"
      },
      "execution_count": 35,
      "outputs": [
        {
          "output_type": "stream",
          "name": "stdout",
          "text": [
            "let play kalyan platform guess\n",
            "if you want to play then press y or n y\n",
            "how many player 6\n",
            "enter a name of player rushi\n",
            "enter a name of player makarand\n",
            "enter a name of player sachin\n",
            "enter a name of player rahul\n",
            "enter a name of player omkar\n",
            "enter a name of player chotu\n",
            "enter a amount rushi 1200\n",
            "enter a amount makarand 200000\n",
            "enter a amount sachin 2944\n",
            "enter a amount rahul 1298\n",
            "enter a amount omkar 5000\n",
            "enter a amount chotu 400\n",
            "enter a platform for rushi 7\n",
            "enter a platform for makarand 6\n",
            "enter a platform for sachin 3\n",
            "enter a platform for rahul 5\n",
            "enter a platform for omkar 2\n",
            "enter a platform for chotu 4\n",
            "chotu have won 210842\n"
          ]
        }
      ]
    },
    {
      "cell_type": "code",
      "source": [],
      "metadata": {
        "id": "ueOFH2vZO_G1"
      },
      "execution_count": null,
      "outputs": []
    }
  ]
}